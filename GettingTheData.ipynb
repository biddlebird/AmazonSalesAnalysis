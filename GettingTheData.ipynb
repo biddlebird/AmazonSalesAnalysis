{
 "cells": [
  {
   "cell_type": "code",
   "execution_count": 1,
   "metadata": {},
   "outputs": [
    {
     "name": "stderr",
     "output_type": "stream",
     "text": [
      "/usr/local/Caskroom/miniconda/base/envs/UCB/lib/python3.12/site-packages/tqdm/auto.py:21: TqdmWarning: IProgress not found. Please update jupyter and ipywidgets. See https://ipywidgets.readthedocs.io/en/stable/user_install.html\n",
      "  from .autonotebook import tqdm as notebook_tqdm\n"
     ]
    },
    {
     "name": "stdout",
     "output_type": "stream",
     "text": [
      "File transfer complete.\n"
     ]
    }
   ],
   "source": [
    "import kagglehub\n",
    "import shutil\n",
    "import os\n",
    "\n",
    "# Download latest version\n",
    "path = kagglehub.dataset_download(\"thedevastator/unlock-profits-with-e-commerce-sales-data\")\n",
    "\n",
    "# Define target folder\n",
    "target_folder = \"csvs\"\n",
    "os.makedirs(target_folder, exist_ok=True)  # Creates the folder only if it doesn't exist\n",
    "\n",
    "# Move files only if they don't already exist\n",
    "for file in os.listdir(path):\n",
    "    source_path = os.path.join(path, file)\n",
    "    target_path = os.path.join(target_folder, file)\n",
    "\n",
    "    if not os.path.exists(target_path):  # Check if file already exists\n",
    "        shutil.move(source_path, target_path)\n",
    "        print(f\"Moved: {file}\")\n",
    "    else:\n",
    "        print(f\"Skipped (already exists): {file}\")\n",
    "\n",
    "print(\"File transfer complete.\")\n"
   ]
  }
 ],
 "metadata": {
  "kernelspec": {
   "display_name": "UCB",
   "language": "python",
   "name": "python3"
  },
  "language_info": {
   "codemirror_mode": {
    "name": "ipython",
    "version": 3
   },
   "file_extension": ".py",
   "mimetype": "text/x-python",
   "name": "python",
   "nbconvert_exporter": "python",
   "pygments_lexer": "ipython3",
   "version": "3.12.4"
  }
 },
 "nbformat": 4,
 "nbformat_minor": 2
}
